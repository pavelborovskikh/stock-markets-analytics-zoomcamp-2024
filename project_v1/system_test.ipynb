{
 "cells": [
  {
   "cell_type": "markdown",
   "metadata": {},
   "source": [
    "# All Modules Functionality Workbook\n",
    "\n",
    "This notebook demonstrates all steps of the workflow: fetching, transforming, training, inference, and simulation."
   ]
  },
  {
   "cell_type": "code",
   "execution_count": 1,
   "outputs": [],
   "source": [
    "import pandas as pd"
   ],
   "metadata": {
    "collapsed": false
   }
  },
  {
   "cell_type": "code",
   "execution_count": 2,
   "metadata": {},
   "outputs": [],
   "source": [
    "%load_ext autoreload\n",
    "%autoreload 2"
   ]
  },
  {
   "cell_type": "code",
   "execution_count": 3,
   "metadata": {},
   "outputs": [],
   "source": [
    "# Check local directory is 05-deployment-and-automation\n",
    "#!pwd"
   ]
  },
  {
   "cell_type": "code",
   "execution_count": 4,
   "metadata": {},
   "outputs": [],
   "source": [
    "# workflow settings\n",
    "#FETCH_REPO = True\n",
    "#TRANSFORM_DATA = True\n",
    "#TRAIN_MODEL = True\n",
    "\n",
    "FETCH_REPO = False\n",
    "TRANSFORM_DATA = False\n",
    "TRAIN_MODEL = False"
   ]
  },
  {
   "cell_type": "markdown",
   "metadata": {},
   "source": [
    "# 1) Fetching data from API / Loading from a local storage"
   ]
  },
  {
   "cell_type": "code",
   "execution_count": 5,
   "metadata": {},
   "outputs": [],
   "source": [
    "from scripts.data_repo import DataRepository\n",
    "\n",
    "repo = DataRepository()"
   ]
  },
  {
   "cell_type": "code",
   "execution_count": 6,
   "metadata": {},
   "outputs": [
    {
     "name": "stdout",
     "output_type": "stream",
     "text": [
      "Fetching Tickers info from YFinance\n",
      "Going download data for this tickers: ['MSFT', 'AAPL', 'GOOG']\n"
     ]
    },
    {
     "name": "stderr",
     "output_type": "stream",
     "text": [
      "[*********************100%%**********************]  1 of 1 completed\n",
      "[*********************100%%**********************]  1 of 1 completed\n",
      "[*********************100%%**********************]  1 of 1 completed\n",
      "[*********************100%%**********************]  1 of 1 completed\n",
      "[*********************100%%**********************]  1 of 1 completed\n",
      "[*********************100%%**********************]  1 of 1 completed\n",
      "[*********************100%%**********************]  1 of 1 completed\n",
      "[*********************100%%**********************]  1 of 1 completed\n",
      "[*********************100%%**********************]  1 of 1 completed\n",
      "[*********************100%%**********************]  1 of 1 completed\n",
      "[*********************100%%**********************]  1 of 1 completed\n",
      "[*********************100%%**********************]  1 of 1 completed\n",
      "[*********************100%%**********************]  1 of 1 completed\n",
      "[*********************100%%**********************]  1 of 1 completed\n",
      "[*********************100%%**********************]  1 of 1 completed\n",
      "[*********************100%%**********************]  1 of 1 completed\n",
      "[*********************100%%**********************]  1 of 1 completed\n",
      "[*********************100%%**********************]  1 of 1 completed\n",
      "[*********************100%%**********************]  1 of 1 completed\n",
      "[*********************100%%**********************]  1 of 1 completed\n",
      "[*********************100%%**********************]  1 of 1 completed\n",
      "[*********************100%%**********************]  1 of 1 completed\n",
      "[*********************100%%**********************]  1 of 1 completed\n",
      "[*********************100%%**********************]  1 of 1 completed\n",
      "[*********************100%%**********************]  1 of 1 completed\n",
      "[*********************100%%**********************]  1 of 1 completed\n",
      "[*********************100%%**********************]  1 of 1 completed\n",
      "[*********************100%%**********************]  1 of 1 completed\n",
      "[*********************100%%**********************]  1 of 1 completed\n",
      "[*********************100%%**********************]  1 of 1 completed\n",
      "[*********************100%%**********************]  1 of 1 completed\n",
      "[*********************100%%**********************]  1 of 1 completed\n",
      "[*********************100%%**********************]  1 of 1 completed\n",
      "VOW3.DE: 100%|██████████| 33/33 [00:44<00:00,  1.33s/it]\n"
     ]
    },
    {
     "name": "stdout",
     "output_type": "stream",
     "text": [
      "Fetching Indexes info from YFinance\n"
     ]
    },
    {
     "name": "stderr",
     "output_type": "stream",
     "text": [
      "[*********************100%%**********************]  1 of 1 completed\n",
      "[*********************100%%**********************]  1 of 1 completed\n",
      "[*********************100%%**********************]  1 of 1 completed\n",
      "[*********************100%%**********************]  1 of 1 completed\n",
      "[*********************100%%**********************]  1 of 1 completed\n",
      "[*********************100%%**********************]  1 of 1 completed\n",
      "[*********************100%%**********************]  1 of 1 completed\n",
      "[*********************100%%**********************]  1 of 1 completed\n"
     ]
    },
    {
     "name": "stdout",
     "output_type": "stream",
     "text": [
      "Fetching Macro info from FRED (Pandas_datareader)\n"
     ]
    }
   ],
   "source": [
    "if FETCH_REPO:\n",
    "  # Fetch All 3 datasets for all dates from APIs\n",
    "  repo.fetch()\n",
    "  # save data to a local dir\n",
    "  repo.persist(data_dir='local_data/')\n",
    "else:\n",
    "  # OR Load from disk\n",
    "  repo.load(data_dir='local_data/')\n",
    "\n",
    "# DEBUG: Separate fetching of the datasets (YFinance-Tickers, YFinance-Indexes, FRED-Macro)\n",
    "#repo.fetch_tickers()\n",
    "#repo.fetch_indexes()\n",
    "#repo.fetch_macro()"
   ]
  },
  {
   "cell_type": "code",
   "execution_count": null,
   "metadata": {},
   "outputs": [],
   "source": [
    "# NOT WORKING YET - need to move all data transformations to Transform\n",
    "\n",
    "# # Test fetching data with a specific min_date\n",
    "# min_date = '2024-06-01'\n",
    "# print(f\"\\nFetching data from {min_date}:\")\n",
    "# repo.fetch(min_date=min_date)\n",
    "\n",
    "# repo.ticker_df.Ticker.nunique()"
   ]
  },
  {
   "cell_type": "code",
   "execution_count": 7,
   "metadata": {},
   "outputs": [
    {
     "data": {
      "text/plain": "count        220942\nmin      1972-06-01\nmax      2024-07-15\nName: Date, dtype: object"
     },
     "execution_count": 7,
     "metadata": {},
     "output_type": "execute_result"
    }
   ],
   "source": [
    "repo.ticker_df.Date.agg({'min','max','count'})"
   ]
  },
  {
   "cell_type": "code",
   "execution_count": 8,
   "metadata": {},
   "outputs": [
    {
     "data": {
      "text/plain": "33"
     },
     "execution_count": 8,
     "metadata": {},
     "output_type": "execute_result"
    }
   ],
   "source": [
    "repo.ticker_df.Ticker.nunique()"
   ]
  },
  {
   "cell_type": "code",
   "execution_count": 9,
   "metadata": {},
   "outputs": [
    {
     "data": {
      "text/plain": "<Figure size 640x480 with 1 Axes>",
      "image/png": "[encoded data removed]"
     },
     "metadata": {},
     "output_type": "display_data"
    }
   ],
   "source": [
    "import matplotlib.pyplot as plt\n",
    "repo.ticker_df.groupby('Date')['Open'].agg('count').plot()\n",
    "plt.title('How quicky tickers data appear in the dataframe?')\n",
    "plt.show()\n"
   ]
  },
  {
   "cell_type": "code",
   "execution_count": 10,
   "metadata": {},
   "outputs": [
    {
     "data": {
      "text/plain": "(13752, 43)"
     },
     "execution_count": 10,
     "metadata": {},
     "output_type": "execute_result"
    }
   ],
   "source": [
    "repo.indexes_df.shape"
   ]
  },
  {
   "cell_type": "code",
   "execution_count": 11,
   "metadata": {},
   "outputs": [
    {
     "data": {
      "text/plain": "            growth_snp500_1d  growth_snp500_3d  growth_snp500_7d  \\\nDate                                                               \n2024-07-12          1.005517           1.00688          1.019303   \n\n            growth_snp500_30d  growth_snp500_90d  growth_snp500_365d  \\\nDate                                                                   \n2024-07-12           1.066148           1.094407            1.379503   \n\n            growth_dax_1d  growth_dax_3d  growth_dax_7d  growth_dax_30d  ...  \\\nDate                                                                     ...   \n2024-07-12       1.011525       1.028076       1.020335        1.013528  ...   \n\n            growth_brent_oil_30d  growth_brent_oil_90d  growth_brent_oil_365d  \\\nDate                                                                            \n2024-07-12              1.017105              1.026932               1.001531   \n\n            growth_btc_usd_1d  growth_btc_usd_3d  growth_btc_usd_7d  \\\nDate                                                                  \n2024-07-12            1.00967           0.998108           1.021833   \n\n            growth_btc_usd_30d  growth_btc_usd_90d  growth_btc_usd_365d  \\\nDate                                                                      \n2024-07-12            0.848453             0.90721             1.839477   \n\n            vix_adj_close  \nDate                       \n2024-07-12          12.46  \n\n[1 rows x 43 columns]",
      "text/html": "<div>\n<style scoped>\n    .dataframe tbody tr th:only-of-type {\n        vertical-align: middle;\n    }\n\n    .dataframe tbody tr th {\n        vertical-align: top;\n    }\n\n    .dataframe thead th {\n        text-align: right;\n    }\n</style>\n<table border=\"1\" class=\"dataframe\">\n  <thead>\n    <tr style=\"text-align: right;\">\n      <th></th>\n      <th>growth_snp500_1d</th>\n      <th>growth_snp500_3d</th>\n      <th>growth_snp500_7d</th>\n      <th>growth_snp500_30d</th>\n      <th>growth_snp500_90d</th>\n      <th>growth_snp500_365d</th>\n      <th>growth_dax_1d</th>\n      <th>growth_dax_3d</th>\n      <th>growth_dax_7d</th>\n      <th>growth_dax_30d</th>\n      <th>...</th>\n      <th>growth_brent_oil_30d</th>\n      <th>growth_brent_oil_90d</th>\n      <th>growth_brent_oil_365d</th>\n      <th>growth_btc_usd_1d</th>\n      <th>growth_btc_usd_3d</th>\n      <th>growth_btc_usd_7d</th>\n      <th>growth_btc_usd_30d</th>\n      <th>growth_btc_usd_90d</th>\n      <th>growth_btc_usd_365d</th>\n      <th>vix_adj_close</th>\n    </tr>\n    <tr>\n      <th>Date</th>\n      <th></th>\n      <th></th>\n      <th></th>\n      <th></th>\n      <th></th>\n      <th></th>\n      <th></th>\n      <th></th>\n      <th></th>\n      <th></th>\n      <th></th>\n      <th></th>\n      <th></th>\n      <th></th>\n      <th></th>\n      <th></th>\n      <th></th>\n      <th></th>\n      <th></th>\n      <th></th>\n      <th></th>\n    </tr>\n  </thead>\n  <tbody>\n    <tr>\n      <th>2024-07-12</th>\n      <td>1.005517</td>\n      <td>1.00688</td>\n      <td>1.019303</td>\n      <td>1.066148</td>\n      <td>1.094407</td>\n      <td>1.379503</td>\n      <td>1.011525</td>\n      <td>1.028076</td>\n      <td>1.020335</td>\n      <td>1.013528</td>\n      <td>...</td>\n      <td>1.017105</td>\n      <td>1.026932</td>\n      <td>1.001531</td>\n      <td>1.00967</td>\n      <td>0.998108</td>\n      <td>1.021833</td>\n      <td>0.848453</td>\n      <td>0.90721</td>\n      <td>1.839477</td>\n      <td>12.46</td>\n    </tr>\n  </tbody>\n</table>\n<p>1 rows × 43 columns</p>\n</div>"
     },
     "execution_count": 11,
     "metadata": {},
     "output_type": "execute_result"
    }
   ],
   "source": [
    "repo.indexes_df.tail(1)"
   ]
  },
  {
   "cell_type": "code",
   "execution_count": 12,
   "metadata": {},
   "outputs": [
    {
     "data": {
      "text/plain": "              bond10  cpi_de_yoy  cpi_de_mom       Date    Quarter  \\\nDATE                                                                 \n2024-05-01  2.511429    0.022298    0.005058 2024-05-01 2024-04-01   \n\n            gdp_de_yoy  gdp_de_qoq  \nDATE                                \n2024-05-01   -0.002219    0.002136  ",
      "text/html": "<div>\n<style scoped>\n    .dataframe tbody tr th:only-of-type {\n        vertical-align: middle;\n    }\n\n    .dataframe tbody tr th {\n        vertical-align: top;\n    }\n\n    .dataframe thead th {\n        text-align: right;\n    }\n</style>\n<table border=\"1\" class=\"dataframe\">\n  <thead>\n    <tr style=\"text-align: right;\">\n      <th></th>\n      <th>bond10</th>\n      <th>cpi_de_yoy</th>\n      <th>cpi_de_mom</th>\n      <th>Date</th>\n      <th>Quarter</th>\n      <th>gdp_de_yoy</th>\n      <th>gdp_de_qoq</th>\n    </tr>\n    <tr>\n      <th>DATE</th>\n      <th></th>\n      <th></th>\n      <th></th>\n      <th></th>\n      <th></th>\n      <th></th>\n      <th></th>\n    </tr>\n  </thead>\n  <tbody>\n    <tr>\n      <th>2024-05-01</th>\n      <td>2.511429</td>\n      <td>0.022298</td>\n      <td>0.005058</td>\n      <td>2024-05-01</td>\n      <td>2024-04-01</td>\n      <td>-0.002219</td>\n      <td>0.002136</td>\n    </tr>\n  </tbody>\n</table>\n</div>"
     },
     "execution_count": 12,
     "metadata": {},
     "output_type": "execute_result"
    }
   ],
   "source": [
    "repo.macro_df.tail(1)"
   ]
  },
  {
   "cell_type": "markdown",
   "metadata": {},
   "source": [
    "# 2) Transform all input fields (data_repo dfs) to one dataframe"
   ]
  },
  {
   "cell_type": "code",
   "execution_count": 13,
   "metadata": {},
   "outputs": [
    {
     "name": "stderr",
     "output_type": "stream",
     "text": [
      "VOW3.DE: 100%|██████████| 33/33 [00:03<00:00, 10.74it/s]\n"
     ]
    }
   ],
   "source": [
    "from scripts.transform import TransformData\n",
    "\n",
    "transformed =  TransformData(repo = repo)\n",
    "\n",
    "if TRANSFORM_DATA:\n",
    "  transformed.transform()\n",
    "  transformed.persist(data_dir=r'local_data')\n",
    "else:\n",
    "  transformed.load(data_dir=\"local_data/\")"
   ]
  },
  {
   "cell_type": "code",
   "execution_count": 14,
   "metadata": {},
   "outputs": [
    {
     "name": "stdout",
     "output_type": "stream",
     "text": [
      "<class 'pandas.core.frame.DataFrame'>\n",
      "Index: 177530 entries, 3490 to 6651\n",
      "Columns: 193 entries, Open to vix_adj_close\n",
      "dtypes: datetime64[ns, UTC](1), datetime64[ns](1), float64(119), int32(67), int64(3), object(2)\n",
      "memory usage: 217.4+ MB\n"
     ]
    }
   ],
   "source": [
    "transformed.transformed_df.info()"
   ]
  },
  {
   "cell_type": "code",
   "execution_count": 39,
   "metadata": {},
   "outputs": [
    {
     "data": {
      "text/plain": "            Open        High         Low       Close   Adj Close    Volume  \\\n6649  106.750000  107.800003  106.199997  107.150002  107.150002  869082.0   \n6650  107.550003  108.900002  107.400002  108.550003  108.550003  772086.0   \n\n     ticker_type   Ticker  Year  Month  ...  growth_brent_oil_30d  \\\n6649          DE  VOW3.DE  2024      7  ...              1.014011   \n6650          DE  VOW3.DE  2024      7  ...              1.016866   \n\n     growth_brent_oil_90d  growth_brent_oil_365d  growth_btc_usd_1d  \\\n6649             1.022142               0.985460           0.993115   \n6650             1.026691               1.001296           1.009670   \n\n      growth_btc_usd_3d  growth_btc_usd_7d  growth_btc_usd_30d  \\\n6649           1.011283           1.006445            0.851674   \n6650           0.998108           1.021833            0.848453   \n\n      growth_btc_usd_90d  growth_btc_usd_365d  vix_adj_close  \n6649            0.853399             1.886864          12.92  \n6650            0.907210             1.839477          12.46  \n\n[2 rows x 193 columns]",
      "text/html": "<div>\n<style scoped>\n    .dataframe tbody tr th:only-of-type {\n        vertical-align: middle;\n    }\n\n    .dataframe tbody tr th {\n        vertical-align: top;\n    }\n\n    .dataframe thead th {\n        text-align: right;\n    }\n</style>\n<table border=\"1\" class=\"dataframe\">\n  <thead>\n    <tr style=\"text-align: right;\">\n      <th></th>\n      <th>Open</th>\n      <th>High</th>\n      <th>Low</th>\n      <th>Close</th>\n      <th>Adj Close</th>\n      <th>Volume</th>\n      <th>ticker_type</th>\n      <th>Ticker</th>\n      <th>Year</th>\n      <th>Month</th>\n      <th>...</th>\n      <th>growth_brent_oil_30d</th>\n      <th>growth_brent_oil_90d</th>\n      <th>growth_brent_oil_365d</th>\n      <th>growth_btc_usd_1d</th>\n      <th>growth_btc_usd_3d</th>\n      <th>growth_btc_usd_7d</th>\n      <th>growth_btc_usd_30d</th>\n      <th>growth_btc_usd_90d</th>\n      <th>growth_btc_usd_365d</th>\n      <th>vix_adj_close</th>\n    </tr>\n  </thead>\n  <tbody>\n    <tr>\n      <th>6649</th>\n      <td>106.750000</td>\n      <td>107.800003</td>\n      <td>106.199997</td>\n      <td>107.150002</td>\n      <td>107.150002</td>\n      <td>869082.0</td>\n      <td>DE</td>\n      <td>VOW3.DE</td>\n      <td>2024</td>\n      <td>7</td>\n      <td>...</td>\n      <td>1.014011</td>\n      <td>1.022142</td>\n      <td>0.985460</td>\n      <td>0.993115</td>\n      <td>1.011283</td>\n      <td>1.006445</td>\n      <td>0.851674</td>\n      <td>0.853399</td>\n      <td>1.886864</td>\n      <td>12.92</td>\n    </tr>\n    <tr>\n      <th>6650</th>\n      <td>107.550003</td>\n      <td>108.900002</td>\n      <td>107.400002</td>\n      <td>108.550003</td>\n      <td>108.550003</td>\n      <td>772086.0</td>\n      <td>DE</td>\n      <td>VOW3.DE</td>\n      <td>2024</td>\n      <td>7</td>\n      <td>...</td>\n      <td>1.016866</td>\n      <td>1.026691</td>\n      <td>1.001296</td>\n      <td>1.009670</td>\n      <td>0.998108</td>\n      <td>1.021833</td>\n      <td>0.848453</td>\n      <td>0.907210</td>\n      <td>1.839477</td>\n      <td>12.46</td>\n    </tr>\n  </tbody>\n</table>\n<p>2 rows × 193 columns</p>\n</div>"
     },
     "execution_count": 39,
     "metadata": {},
     "output_type": "execute_result"
    }
   ],
   "source": [
    "transformed.transformed_df.tail(2)"
   ]
  },
  {
   "cell_type": "code",
   "execution_count": 15,
   "outputs": [
    {
     "data": {
      "text/plain": "Open                   177530\nHigh                   177530\nLow                    177530\nClose                  177530\nAdj Close              177530\n                        ...  \ngrowth_btc_usd_7d       76756\ngrowth_btc_usd_30d      76254\ngrowth_btc_usd_90d      75024\ngrowth_btc_usd_365d     69406\nvix_adj_close          175264\nLength: 193, dtype: int64"
     },
     "execution_count": 15,
     "metadata": {},
     "output_type": "execute_result"
    }
   ],
   "source": [
    "transformed.transformed_df.count()"
   ],
   "metadata": {
    "collapsed": false
   }
  },
  {
   "cell_type": "code",
   "execution_count": 16,
   "metadata": {},
   "outputs": [
    {
     "data": {
      "text/plain": "6649   2024-07-11 00:00:00+00:00\n6650   2024-07-12 00:00:00+00:00\n6651   2024-07-15 00:00:00+00:00\nName: Date, dtype: datetime64[ns, UTC]"
     },
     "execution_count": 16,
     "metadata": {},
     "output_type": "execute_result"
    }
   ],
   "source": [
    "# last 3 days of the data\n",
    "transformed.transformed_df.tail(3)['Date']"
   ]
  },
  {
   "cell_type": "markdown",
   "metadata": {},
   "source": [
    "# 3) Train the best model \n",
    "* Model : Random Forest(max_depth=17, n_estimators=200)"
   ]
  },
  {
   "cell_type": "code",
   "execution_count": 17,
   "metadata": {},
   "outputs": [
    {
     "name": "stdout",
     "output_type": "stream",
     "text": [
      "Prepare the dataframe: define feature sets, add dummies, temporal split\n",
      "length: X_train (137378, 229),  X_validation (19851, 229), X_test (20301, 229)\n",
      "  X_train_valid = (157229, 229),  all combined: X_all (177530, 229)\n",
      "Training the best model (RandomForest (max_depth=17, n_estimators=200))\n"
     ]
    }
   ],
   "source": [
    "from scripts.train import TrainModel\n",
    "import warnings\n",
    "\n",
    "# Suppress all warnings (not recommended in production unless necessary)\n",
    "warnings.filterwarnings(\"ignore\")\n",
    "\n",
    "trained = TrainModel(transformed=transformed)\n",
    "\n",
    "if TRAIN_MODEL:\n",
    "  trained.prepare_dataframe() # prepare dataframes\n",
    "  trained.train_random_forest() # train the model\n",
    "  trained.persist(data_dir='local_data/') # save the model to disk\n",
    "else:\n",
    "  trained.prepare_dataframe() # prepare dataframes (incl. for inference)\n",
    "  trained.load(data_dir='local_data/')\n"
   ]
  },
  {
   "cell_type": "code",
   "execution_count": 18,
   "metadata": {},
   "outputs": [
    {
     "data": {
      "text/plain": "            Open        High         Low       Close   Adj Close     Volume  \\\n6645  107.699997  108.449997  106.550003  106.849998  106.849998   711334.0   \n6646  107.000000  107.300003  106.199997  106.800003  106.800003   483947.0   \n6647  106.250000  107.250000  105.949997  106.599998  106.599998   619664.0   \n6648  106.900002  108.500000  104.199997  106.250000  106.250000  1220032.0   \n6649  106.750000  107.800003  106.199997  107.150002  107.150002   869082.0   \n6650  107.550003  108.900002  107.400002  108.550003  108.550003   772086.0   \n6651  108.300003  108.349998  107.699997  107.949997  107.949997    98672.0   \n\n     ticker_type   Ticker  Year Month  ... Ticker_SHL.DE Ticker_SIE.DE  \\\n6645          DE  VOW3.DE  2024     7  ...             0             0   \n6646          DE  VOW3.DE  2024     7  ...             0             0   \n6647          DE  VOW3.DE  2024     7  ...             0             0   \n6648          DE  VOW3.DE  2024     7  ...             0             0   \n6649          DE  VOW3.DE  2024     7  ...             0             0   \n6650          DE  VOW3.DE  2024     7  ...             0             0   \n6651          DE  VOW3.DE  2024     7  ...             0             0   \n\n      Ticker_SU.PA  Ticker_TSLA  Ticker_TTE  Ticker_VOW3.DE  ticker_type_DE  \\\n6645             0            0           0               1               1   \n6646             0            0           0               1               1   \n6647             0            0           0               1               1   \n6648             0            0           0               1               1   \n6649             0            0           0               1               1   \n6650             0            0           0               1               1   \n6651             0            0           0               1               1   \n\n      ticker_type_EU  ticker_type_US  split  \n6645               0               0   test  \n6646               0               0   test  \n6647               0               0   test  \n6648               0               0   test  \n6649               0               0   test  \n6650               0               0   test  \n6651               0               0   test  \n\n[7 rows x 248 columns]",
      "text/html": "<div>\n<style scoped>\n    .dataframe tbody tr th:only-of-type {\n        vertical-align: middle;\n    }\n\n    .dataframe tbody tr th {\n        vertical-align: top;\n    }\n\n    .dataframe thead th {\n        text-align: right;\n    }\n</style>\n<table border=\"1\" class=\"dataframe\">\n  <thead>\n    <tr style=\"text-align: right;\">\n      <th></th>\n      <th>Open</th>\n      <th>High</th>\n      <th>Low</th>\n      <th>Close</th>\n      <th>Adj Close</th>\n      <th>Volume</th>\n      <th>ticker_type</th>\n      <th>Ticker</th>\n      <th>Year</th>\n      <th>Month</th>\n      <th>...</th>\n      <th>Ticker_SHL.DE</th>\n      <th>Ticker_SIE.DE</th>\n      <th>Ticker_SU.PA</th>\n      <th>Ticker_TSLA</th>\n      <th>Ticker_TTE</th>\n      <th>Ticker_VOW3.DE</th>\n      <th>ticker_type_DE</th>\n      <th>ticker_type_EU</th>\n      <th>ticker_type_US</th>\n      <th>split</th>\n    </tr>\n  </thead>\n  <tbody>\n    <tr>\n      <th>6645</th>\n      <td>107.699997</td>\n      <td>108.449997</td>\n      <td>106.550003</td>\n      <td>106.849998</td>\n      <td>106.849998</td>\n      <td>711334.0</td>\n      <td>DE</td>\n      <td>VOW3.DE</td>\n      <td>2024</td>\n      <td>7</td>\n      <td>...</td>\n      <td>0</td>\n      <td>0</td>\n      <td>0</td>\n      <td>0</td>\n      <td>0</td>\n      <td>1</td>\n      <td>1</td>\n      <td>0</td>\n      <td>0</td>\n      <td>test</td>\n    </tr>\n    <tr>\n      <th>6646</th>\n      <td>107.000000</td>\n      <td>107.300003</td>\n      <td>106.199997</td>\n      <td>106.800003</td>\n      <td>106.800003</td>\n      <td>483947.0</td>\n      <td>DE</td>\n      <td>VOW3.DE</td>\n      <td>2024</td>\n      <td>7</td>\n      <td>...</td>\n      <td>0</td>\n      <td>0</td>\n      <td>0</td>\n      <td>0</td>\n      <td>0</td>\n      <td>1</td>\n      <td>1</td>\n      <td>0</td>\n      <td>0</td>\n      <td>test</td>\n    </tr>\n    <tr>\n      <th>6647</th>\n      <td>106.250000</td>\n      <td>107.250000</td>\n      <td>105.949997</td>\n      <td>106.599998</td>\n      <td>106.599998</td>\n      <td>619664.0</td>\n      <td>DE</td>\n      <td>VOW3.DE</td>\n      <td>2024</td>\n      <td>7</td>\n      <td>...</td>\n      <td>0</td>\n      <td>0</td>\n      <td>0</td>\n      <td>0</td>\n      <td>0</td>\n      <td>1</td>\n      <td>1</td>\n      <td>0</td>\n      <td>0</td>\n      <td>test</td>\n    </tr>\n    <tr>\n      <th>6648</th>\n      <td>106.900002</td>\n      <td>108.500000</td>\n      <td>104.199997</td>\n      <td>106.250000</td>\n      <td>106.250000</td>\n      <td>1220032.0</td>\n      <td>DE</td>\n      <td>VOW3.DE</td>\n      <td>2024</td>\n      <td>7</td>\n      <td>...</td>\n      <td>0</td>\n      <td>0</td>\n      <td>0</td>\n      <td>0</td>\n      <td>0</td>\n      <td>1</td>\n      <td>1</td>\n      <td>0</td>\n      <td>0</td>\n      <td>test</td>\n    </tr>\n    <tr>\n      <th>6649</th>\n      <td>106.750000</td>\n      <td>107.800003</td>\n      <td>106.199997</td>\n      <td>107.150002</td>\n      <td>107.150002</td>\n      <td>869082.0</td>\n      <td>DE</td>\n      <td>VOW3.DE</td>\n      <td>2024</td>\n      <td>7</td>\n      <td>...</td>\n      <td>0</td>\n      <td>0</td>\n      <td>0</td>\n      <td>0</td>\n      <td>0</td>\n      <td>1</td>\n      <td>1</td>\n      <td>0</td>\n      <td>0</td>\n      <td>test</td>\n    </tr>\n    <tr>\n      <th>6650</th>\n      <td>107.550003</td>\n      <td>108.900002</td>\n      <td>107.400002</td>\n      <td>108.550003</td>\n      <td>108.550003</td>\n      <td>772086.0</td>\n      <td>DE</td>\n      <td>VOW3.DE</td>\n      <td>2024</td>\n      <td>7</td>\n      <td>...</td>\n      <td>0</td>\n      <td>0</td>\n      <td>0</td>\n      <td>0</td>\n      <td>0</td>\n      <td>1</td>\n      <td>1</td>\n      <td>0</td>\n      <td>0</td>\n      <td>test</td>\n    </tr>\n    <tr>\n      <th>6651</th>\n      <td>108.300003</td>\n      <td>108.349998</td>\n      <td>107.699997</td>\n      <td>107.949997</td>\n      <td>107.949997</td>\n      <td>98672.0</td>\n      <td>DE</td>\n      <td>VOW3.DE</td>\n      <td>2024</td>\n      <td>7</td>\n      <td>...</td>\n      <td>0</td>\n      <td>0</td>\n      <td>0</td>\n      <td>0</td>\n      <td>0</td>\n      <td>1</td>\n      <td>1</td>\n      <td>0</td>\n      <td>0</td>\n      <td>test</td>\n    </tr>\n  </tbody>\n</table>\n<p>7 rows × 248 columns</p>\n</div>"
     },
     "execution_count": 18,
     "metadata": {},
     "output_type": "execute_result"
    }
   ],
   "source": [
    "# resulting df\n",
    "trained.df_full.tail(7)"
   ]
  },
  {
   "cell_type": "code",
   "execution_count": 19,
   "outputs": [
    {
     "data": {
      "text/plain": "Open              177530\nHigh              177530\nLow               177530\nClose             177530\nAdj Close         177530\n                   ...  \nTicker_VOW3.DE    177530\nticker_type_DE    177530\nticker_type_EU    177530\nticker_type_US    177530\nsplit             177530\nLength: 248, dtype: int64"
     },
     "execution_count": 19,
     "metadata": {},
     "output_type": "execute_result"
    }
   ],
   "source": [
    "trained.df_full.count()"
   ],
   "metadata": {
    "collapsed": false
   }
  },
  {
   "cell_type": "code",
   "execution_count": 20,
   "metadata": {},
   "outputs": [
    {
     "data": {
      "text/plain": "RandomForestClassifier(max_depth=17, n_estimators=200, n_jobs=-1,\n                       random_state=42)",
      "text/html": "<style>#sk-container-id-1 {\n  /* Definition of color scheme common for light and dark mode */\n  --sklearn-color-text: black;\n  --sklearn-color-line: gray;\n  /* Definition of color scheme for unfitted estimators */\n  --sklearn-color-unfitted-level-0: #fff5e6;\n  --sklearn-color-unfitted-level-1: #f6e4d2;\n  --sklearn-color-unfitted-level-2: #ffe0b3;\n  --sklearn-color-unfitted-level-3: chocolate;\n  /* Definition of color scheme for fitted estimators */\n  --sklearn-color-fitted-level-0: #f0f8ff;\n  --sklearn-color-fitted-level-1: #d4ebff;\n  --sklearn-color-fitted-level-2: #b3dbfd;\n  --sklearn-color-fitted-level-3: cornflowerblue;\n\n  /* Specific color for light theme */\n  --sklearn-color-text-on-default-background: var(--sg-text-color, var(--theme-code-foreground, var(--jp-content-font-color1, black)));\n  --sklearn-color-background: var(--sg-background-color, var(--theme-background, var(--jp-layout-color0, white)));\n  --sklearn-color-border-box: var(--sg-text-color, var(--theme-code-foreground, var(--jp-content-font-color1, black)));\n  --sklearn-color-icon: #696969;\n\n  @media (prefers-color-scheme: dark) {\n    /* Redefinition of color scheme for dark theme */\n    --sklearn-color-text-on-default-background: var(--sg-text-color, var(--theme-code-foreground, var(--jp-content-font-color1, white)));\n    --sklearn-color-background: var(--sg-background-color, var(--theme-background, var(--jp-layout-color0, #111)));\n    --sklearn-color-border-box: var(--sg-text-color, var(--theme-code-foreground, var(--jp-content-font-color1, white)));\n    --sklearn-color-icon: #878787;\n  }\n}\n\n#sk-container-id-1 {\n  color: var(--sklearn-color-text);\n}\n\n#sk-container-id-1 pre {\n  padding: 0;\n}\n\n#sk-container-id-1 input.sk-hidden--visually {\n  border: 0;\n  clip: rect(1px 1px 1px 1px);\n  clip: rect(1px, 1px, 1px, 1px);\n  height: 1px;\n  margin: -1px;\n  overflow: hidden;\n  padding: 0;\n  position: absolute;\n  width: 1px;\n}\n\n#sk-container-id-1 div.sk-dashed-wrapped {\n  border: 1px dashed var(--sklearn-color-line);\n  margin: 0 0.4em 0.5em 0.4em;\n  box-sizing: border-box;\n  padding-bottom: 0.4em;\n  background-color: var(--sklearn-color-background);\n}\n\n#sk-container-id-1 div.sk-container {\n  /* jupyter's `normalize.less` sets `[hidden] { display: none; }`\n     but bootstrap.min.css set `[hidden] { display: none !important; }`\n     so we also need the `!important` here to be able to override the\n     default hidden behavior on the sphinx rendered scikit-learn.org.\n     See: https://github.com/scikit-learn/scikit-learn/issues/21755 */\n  display: inline-block !important;\n  position: relative;\n}\n\n#sk-container-id-1 div.sk-text-repr-fallback {\n  display: none;\n}\n\ndiv.sk-parallel-item,\ndiv.sk-serial,\ndiv.sk-item {\n  /* draw centered vertical line to link estimators */\n  background-image: linear-gradient(var(--sklearn-color-text-on-default-background), var(--sklearn-color-text-on-default-background));\n  background-size: 2px 100%;\n  background-repeat: no-repeat;\n  background-position: center center;\n}\n\n/* Parallel-specific style estimator block */\n\n#sk-container-id-1 div.sk-parallel-item::after {\n  content: \"\";\n  width: 100%;\n  border-bottom: 2px solid var(--sklearn-color-text-on-default-background);\n  flex-grow: 1;\n}\n\n#sk-container-id-1 div.sk-parallel {\n  display: flex;\n  align-items: stretch;\n  justify-content: center;\n  background-color: var(--sklearn-color-background);\n  position: relative;\n}\n\n#sk-container-id-1 div.sk-parallel-item {\n  display: flex;\n  flex-direction: column;\n}\n\n#sk-container-id-1 div.sk-parallel-item:first-child::after {\n  align-self: flex-end;\n  width: 50%;\n}\n\n#sk-container-id-1 div.sk-parallel-item:last-child::after {\n  align-self: flex-start;\n  width: 50%;\n}\n\n#sk-container-id-1 div.sk-parallel-item:only-child::after {\n  width: 0;\n}\n\n/* Serial-specific style estimator block */\n\n#sk-container-id-1 div.sk-serial {\n  display: flex;\n  flex-direction: column;\n  align-items: center;\n  background-color: var(--sklearn-color-background);\n  padding-right: 1em;\n  padding-left: 1em;\n}\n\n\n/* Toggleable style: style used for estimator/Pipeline/ColumnTransformer box that is\nclickable and can be expanded/collapsed.\n- Pipeline and ColumnTransformer use this feature and define the default style\n- Estimators will overwrite some part of the style using the `sk-estimator` class\n*/\n\n/* Pipeline and ColumnTransformer style (default) */\n\n#sk-container-id-1 div.sk-toggleable {\n  /* Default theme specific background. It is overwritten whether we have a\n  specific estimator or a Pipeline/ColumnTransformer */\n  background-color: var(--sklearn-color-background);\n}\n\n/* Toggleable label */\n#sk-container-id-1 label.sk-toggleable__label {\n  cursor: pointer;\n  display: block;\n  width: 100%;\n  margin-bottom: 0;\n  padding: 0.5em;\n  box-sizing: border-box;\n  text-align: center;\n}\n\n#sk-container-id-1 label.sk-toggleable__label-arrow:before {\n  /* Arrow on the left of the label */\n  content: \"▸\";\n  float: left;\n  margin-right: 0.25em;\n  color: var(--sklearn-color-icon);\n}\n\n#sk-container-id-1 label.sk-toggleable__label-arrow:hover:before {\n  color: var(--sklearn-color-text);\n}\n\n/* Toggleable content - dropdown */\n\n#sk-container-id-1 div.sk-toggleable__content {\n  max-height: 0;\n  max-width: 0;\n  overflow: hidden;\n  text-align: left;\n  /* unfitted */\n  background-color: var(--sklearn-color-unfitted-level-0);\n}\n\n#sk-container-id-1 div.sk-toggleable__content.fitted {\n  /* fitted */\n  background-color: var(--sklearn-color-fitted-level-0);\n}\n\n#sk-container-id-1 div.sk-toggleable__content pre {\n  margin: 0.2em;\n  border-radius: 0.25em;\n  color: var(--sklearn-color-text);\n  /* unfitted */\n  background-color: var(--sklearn-color-unfitted-level-0);\n}\n\n#sk-container-id-1 div.sk-toggleable__content.fitted pre {\n  /* unfitted */\n  background-color: var(--sklearn-color-fitted-level-0);\n}\n\n#sk-container-id-1 input.sk-toggleable__control:checked~div.sk-toggleable__content {\n  /* Expand drop-down */\n  max-height: 200px;\n  max-width: 100%;\n  overflow: auto;\n}\n\n#sk-container-id-1 input.sk-toggleable__control:checked~label.sk-toggleable__label-arrow:before {\n  content: \"▾\";\n}\n\n/* Pipeline/ColumnTransformer-specific style */\n\n#sk-container-id-1 div.sk-label input.sk-toggleable__control:checked~label.sk-toggleable__label {\n  color: var(--sklearn-color-text);\n  background-color: var(--sklearn-color-unfitted-level-2);\n}\n\n#sk-container-id-1 div.sk-label.fitted input.sk-toggleable__control:checked~label.sk-toggleable__label {\n  background-color: var(--sklearn-color-fitted-level-2);\n}\n\n/* Estimator-specific style */\n\n/* Colorize estimator box */\n#sk-container-id-1 div.sk-estimator input.sk-toggleable__control:checked~label.sk-toggleable__label {\n  /* unfitted */\n  background-color: var(--sklearn-color-unfitted-level-2);\n}\n\n#sk-container-id-1 div.sk-estimator.fitted input.sk-toggleable__control:checked~label.sk-toggleable__label {\n  /* fitted */\n  background-color: var(--sklearn-color-fitted-level-2);\n}\n\n#sk-container-id-1 div.sk-label label.sk-toggleable__label,\n#sk-container-id-1 div.sk-label label {\n  /* The background is the default theme color */\n  color: var(--sklearn-color-text-on-default-background);\n}\n\n/* On hover, darken the color of the background */\n#sk-container-id-1 div.sk-label:hover label.sk-toggleable__label {\n  color: var(--sklearn-color-text);\n  background-color: var(--sklearn-color-unfitted-level-2);\n}\n\n/* Label box, darken color on hover, fitted */\n#sk-container-id-1 div.sk-label.fitted:hover label.sk-toggleable__label.fitted {\n  color: var(--sklearn-color-text);\n  background-color: var(--sklearn-color-fitted-level-2);\n}\n\n/* Estimator label */\n\n#sk-container-id-1 div.sk-label label {\n  font-family: monospace;\n  font-weight: bold;\n  display: inline-block;\n  line-height: 1.2em;\n}\n\n#sk-container-id-1 div.sk-label-container {\n  text-align: center;\n}\n\n/* Estimator-specific */\n#sk-container-id-1 div.sk-estimator {\n  font-family: monospace;\n  border: 1px dotted var(--sklearn-color-border-box);\n  border-radius: 0.25em;\n  box-sizing: border-box;\n  margin-bottom: 0.5em;\n  /* unfitted */\n  background-color: var(--sklearn-color-unfitted-level-0);\n}\n\n#sk-container-id-1 div.sk-estimator.fitted {\n  /* fitted */\n  background-color: var(--sklearn-color-fitted-level-0);\n}\n\n/* on hover */\n#sk-container-id-1 div.sk-estimator:hover {\n  /* unfitted */\n  background-color: var(--sklearn-color-unfitted-level-2);\n}\n\n#sk-container-id-1 div.sk-estimator.fitted:hover {\n  /* fitted */\n  background-color: var(--sklearn-color-fitted-level-2);\n}\n\n/* Specification for estimator info (e.g. \"i\" and \"?\") */\n\n/* Common style for \"i\" and \"?\" */\n\n.sk-estimator-doc-link,\na:link.sk-estimator-doc-link,\na:visited.sk-estimator-doc-link {\n  float: right;\n  font-size: smaller;\n  line-height: 1em;\n  font-family: monospace;\n  background-color: var(--sklearn-color-background);\n  border-radius: 1em;\n  height: 1em;\n  width: 1em;\n  text-decoration: none !important;\n  margin-left: 1ex;\n  /* unfitted */\n  border: var(--sklearn-color-unfitted-level-1) 1pt solid;\n  color: var(--sklearn-color-unfitted-level-1);\n}\n\n.sk-estimator-doc-link.fitted,\na:link.sk-estimator-doc-link.fitted,\na:visited.sk-estimator-doc-link.fitted {\n  /* fitted */\n  border: var(--sklearn-color-fitted-level-1) 1pt solid;\n  color: var(--sklearn-color-fitted-level-1);\n}\n\n/* On hover */\ndiv.sk-estimator:hover .sk-estimator-doc-link:hover,\n.sk-estimator-doc-link:hover,\ndiv.sk-label-container:hover .sk-estimator-doc-link:hover,\n.sk-estimator-doc-link:hover {\n  /* unfitted */\n  background-color: var(--sklearn-color-unfitted-level-3);\n  color: var(--sklearn-color-background);\n  text-decoration: none;\n}\n\ndiv.sk-estimator.fitted:hover .sk-estimator-doc-link.fitted:hover,\n.sk-estimator-doc-link.fitted:hover,\ndiv.sk-label-container:hover .sk-estimator-doc-link.fitted:hover,\n.sk-estimator-doc-link.fitted:hover {\n  /* fitted */\n  background-color: var(--sklearn-color-fitted-level-3);\n  color: var(--sklearn-color-background);\n  text-decoration: none;\n}\n\n/* Span, style for the box shown on hovering the info icon */\n.sk-estimator-doc-link span {\n  display: none;\n  z-index: 9999;\n  position: relative;\n  font-weight: normal;\n  right: .2ex;\n  padding: .5ex;\n  margin: .5ex;\n  width: min-content;\n  min-width: 20ex;\n  max-width: 50ex;\n  color: var(--sklearn-color-text);\n  box-shadow: 2pt 2pt 4pt #999;\n  /* unfitted */\n  background: var(--sklearn-color-unfitted-level-0);\n  border: .5pt solid var(--sklearn-color-unfitted-level-3);\n}\n\n.sk-estimator-doc-link.fitted span {\n  /* fitted */\n  background: var(--sklearn-color-fitted-level-0);\n  border: var(--sklearn-color-fitted-level-3);\n}\n\n.sk-estimator-doc-link:hover span {\n  display: block;\n}\n\n/* \"?\"-specific style due to the `<a>` HTML tag */\n\n#sk-container-id-1 a.estimator_doc_link {\n  float: right;\n  font-size: 1rem;\n  line-height: 1em;\n  font-family: monospace;\n  background-color: var(--sklearn-color-background);\n  border-radius: 1rem;\n  height: 1rem;\n  width: 1rem;\n  text-decoration: none;\n  /* unfitted */\n  color: var(--sklearn-color-unfitted-level-1);\n  border: var(--sklearn-color-unfitted-level-1) 1pt solid;\n}\n\n#sk-container-id-1 a.estimator_doc_link.fitted {\n  /* fitted */\n  border: var(--sklearn-color-fitted-level-1) 1pt solid;\n  color: var(--sklearn-color-fitted-level-1);\n}\n\n/* On hover */\n#sk-container-id-1 a.estimator_doc_link:hover {\n  /* unfitted */\n  background-color: var(--sklearn-color-unfitted-level-3);\n  color: var(--sklearn-color-background);\n  text-decoration: none;\n}\n\n#sk-container-id-1 a.estimator_doc_link.fitted:hover {\n  /* fitted */\n  background-color: var(--sklearn-color-fitted-level-3);\n}\n</style><div id=\"sk-container-id-1\" class=\"sk-top-container\"><div class=\"sk-text-repr-fallback\"><pre>RandomForestClassifier(max_depth=17, n_estimators=200, n_jobs=-1,\n                       random_state=42)</pre><b>In a Jupyter environment, please rerun this cell to show the HTML representation or trust the notebook. <br />On GitHub, the HTML representation is unable to render, please try loading this page with nbviewer.org.</b></div><div class=\"sk-container\" hidden><div class=\"sk-item\"><div class=\"sk-estimator fitted sk-toggleable\"><input class=\"sk-toggleable__control sk-hidden--visually\" id=\"sk-estimator-id-1\" type=\"checkbox\" checked><label for=\"sk-estimator-id-1\" class=\"sk-toggleable__label fitted sk-toggleable__label-arrow fitted\">&nbsp;&nbsp;RandomForestClassifier<a class=\"sk-estimator-doc-link fitted\" rel=\"noreferrer\" target=\"_blank\" href=\"https://scikit-learn.org/1.5/modules/generated/sklearn.ensemble.RandomForestClassifier.html\">?<span>Documentation for RandomForestClassifier</span></a><span class=\"sk-estimator-doc-link fitted\">i<span>Fitted</span></span></label><div class=\"sk-toggleable__content fitted\"><pre>RandomForestClassifier(max_depth=17, n_estimators=200, n_jobs=-1,\n                       random_state=42)</pre></div> </div></div></div></div>"
     },
     "execution_count": 20,
     "metadata": {},
     "output_type": "execute_result"
    }
   ],
   "source": [
    "trained.model"
   ]
  },
  {
   "cell_type": "markdown",
   "metadata": {},
   "source": [
    "# 4) Inference + Simulation"
   ]
  },
  {
   "cell_type": "code",
   "execution_count": 35,
   "metadata": {},
   "outputs": [
    {
     "name": "stdout",
     "output_type": "stream",
     "text": [
      "Making inference and calculating financial results\n",
      "Prediction columns founded: ['pred1_rf_best_notProba']\n",
      "Created columns is_correct: ['is_correct_pred1']\n",
      "Precision on TEST set for each prediction:\n",
      "Prediction column:pred1_rf_best_notProba , is_correct_column: is_correct_pred1\n",
      "is_correct_pred1\n",
      "1    9288\n",
      "0    7778\n",
      "Name: count, dtype: int64\n",
      "is_correct_pred1\n",
      "1    0.54424\n",
      "0    0.45576\n",
      "Name: count, dtype: float64\n",
      "---------\n",
      "Calculating sumulation for prediction pred1_rf_best_notProba:\n",
      "    Count times of investment 17066 out of 20301 TEST records\n",
      "    Financial Result: \n",
      " sim1_gross_rev_pred1    2402.780284\n",
      "sim1_fees_pred1        -1706.600000\n",
      "sim1_net_rev_pred1       703.480284\n",
      "dtype: float64\n",
      "        Count Investments in 2.5 years (on TEST): 17066\n",
      "        Gross Revenue: $2402\n",
      "        Fees (0.2% for buy+sell): $1706\n",
      "        Net Revenue: $703\n",
      "        Fees are 35 % from Gross Revenue\n",
      "        Capital Required : $4950 (Vbegin)\n",
      "        Final value (Vbegin + Net_revenue) : $5653 (Vfinal)\n",
      "        Average CAGR on TEST (2.5 years) : 1.055, or 5.5% \n",
      "        Average daily stats: \n",
      "            Average net revenue per investment: $0.04 \n",
      "            Average investments per day: 27 \n",
      "            Q75 investments per day: 33 \n",
      "=============================================+\n"
     ]
    }
   ],
   "source": [
    "# Make inference for the last date and calculate financial results\n",
    "prediction_name='pred1_rf_best'\n",
    "trained.make_inference(pred_name=prediction_name)"
   ]
  },
  {
   "cell_type": "code",
   "execution_count": 32,
   "metadata": {},
   "outputs": [
    {
     "data": {
      "text/plain": "            Open        High         Low       Close   Adj Close      Volume  \\\n3490   58.687500   59.312500   56.000000   58.281250   36.000641  53228400.0   \n3491   56.781250   58.562500   56.125000   56.312500   34.784504  54119000.0   \n3492   55.562500   58.187500   54.687500   56.906250   35.151283  64059600.0   \n3493   56.093750   56.937500   54.187500   55.000000   33.973778  54976600.0   \n3494   54.312500   56.125000   53.656250   55.718750   34.417774  62013600.0   \n...          ...         ...         ...         ...         ...         ...   \n6647  106.250000  107.250000  105.949997  106.599998  106.599998    619664.0   \n6648  106.900002  108.500000  104.199997  106.250000  106.250000   1220032.0   \n6649  106.750000  107.800003  106.199997  107.150002  107.150002    869082.0   \n6650  107.550003  108.900002  107.400002  108.550003  108.550003    772086.0   \n6651  108.300003  108.349998  107.699997  107.949997  107.949997     98672.0   \n\n     ticker_type   Ticker  Year Month  ... ticker_type_EU ticker_type_US  \\\n3490          US     MSFT  2000     1  ...              0              1   \n3491          US     MSFT  2000     1  ...              0              1   \n3492          US     MSFT  2000     1  ...              0              1   \n3493          US     MSFT  2000     1  ...              0              1   \n3494          US     MSFT  2000     1  ...              0              1   \n...          ...      ...   ...   ...  ...            ...            ...   \n6647          DE  VOW3.DE  2024     7  ...              0              0   \n6648          DE  VOW3.DE  2024     7  ...              0              0   \n6649          DE  VOW3.DE  2024     7  ...              0              0   \n6650          DE  VOW3.DE  2024     7  ...              0              0   \n6651          DE  VOW3.DE  2024     7  ...              0              0   \n\n      split  pred1_rf_best  pred1_rf_best_notProba  pred1_rf_best_rank  \\\n3490  train       0.328874                       0                14.0   \n3491  train       0.324641                       0                22.0   \n3492  train       0.385467                       0                22.0   \n3493  train       0.408671                       0                23.0   \n3494  train       0.345589                       0                20.0   \n...     ...            ...                     ...                 ...   \n6647   test       0.497982                       0                21.0   \n6648   test       0.515131                       1                 7.0   \n6649   test       0.526034                       1                 4.0   \n6650   test       0.491323                       0                30.0   \n6651   test       0.501461                       1                 9.0   \n\n      is_correct_pred1  sim1_gross_rev_pred1  sim1_fees_pred1  \\\n3490                 1             -0.000000              0.0   \n3491                 1             -0.000000              0.0   \n3492                 1             -0.000000              0.0   \n3493                 1             -0.000000              0.0   \n3494                 1             -0.000000              0.0   \n...                ...                   ...              ...   \n6647                 0              0.000000              0.0   \n6648                 1              0.799999             -0.1   \n6649                 0                   NaN             -0.1   \n6650                 1                   NaN              0.0   \n6651                 0                   NaN             -0.1   \n\n      sim1_net_rev_pred1  \n3490            0.000000  \n3491            0.000000  \n3492            0.000000  \n3493            0.000000  \n3494            0.000000  \n...                  ...  \n6647            0.000000  \n6648            0.699999  \n6649                 NaN  \n6650                 NaN  \n6651                 NaN  \n\n[177530 rows x 255 columns]",
      "text/html": "<div>\n<style scoped>\n    .dataframe tbody tr th:only-of-type {\n        vertical-align: middle;\n    }\n\n    .dataframe tbody tr th {\n        vertical-align: top;\n    }\n\n    .dataframe thead th {\n        text-align: right;\n    }\n</style>\n<table border=\"1\" class=\"dataframe\">\n  <thead>\n    <tr style=\"text-align: right;\">\n      <th></th>\n      <th>Open</th>\n      <th>High</th>\n      <th>Low</th>\n      <th>Close</th>\n      <th>Adj Close</th>\n      <th>Volume</th>\n      <th>ticker_type</th>\n      <th>Ticker</th>\n      <th>Year</th>\n      <th>Month</th>\n      <th>...</th>\n      <th>ticker_type_EU</th>\n      <th>ticker_type_US</th>\n      <th>split</th>\n      <th>pred1_rf_best</th>\n      <th>pred1_rf_best_notProba</th>\n      <th>pred1_rf_best_rank</th>\n      <th>is_correct_pred1</th>\n      <th>sim1_gross_rev_pred1</th>\n      <th>sim1_fees_pred1</th>\n      <th>sim1_net_rev_pred1</th>\n    </tr>\n  </thead>\n  <tbody>\n    <tr>\n      <th>3490</th>\n      <td>58.687500</td>\n      <td>59.312500</td>\n      <td>56.000000</td>\n      <td>58.281250</td>\n      <td>36.000641</td>\n      <td>53228400.0</td>\n      <td>US</td>\n      <td>MSFT</td>\n      <td>2000</td>\n      <td>1</td>\n      <td>...</td>\n      <td>0</td>\n      <td>1</td>\n      <td>train</td>\n      <td>0.328874</td>\n      <td>0</td>\n      <td>14.0</td>\n      <td>1</td>\n      <td>-0.000000</td>\n      <td>0.0</td>\n      <td>0.000000</td>\n    </tr>\n    <tr>\n      <th>3491</th>\n      <td>56.781250</td>\n      <td>58.562500</td>\n      <td>56.125000</td>\n      <td>56.312500</td>\n      <td>34.784504</td>\n      <td>54119000.0</td>\n      <td>US</td>\n      <td>MSFT</td>\n      <td>2000</td>\n      <td>1</td>\n      <td>...</td>\n      <td>0</td>\n      <td>1</td>\n      <td>train</td>\n      <td>0.324641</td>\n      <td>0</td>\n      <td>22.0</td>\n      <td>1</td>\n      <td>-0.000000</td>\n      <td>0.0</td>\n      <td>0.000000</td>\n    </tr>\n    <tr>\n      <th>3492</th>\n      <td>55.562500</td>\n      <td>58.187500</td>\n      <td>54.687500</td>\n      <td>56.906250</td>\n      <td>35.151283</td>\n      <td>64059600.0</td>\n      <td>US</td>\n      <td>MSFT</td>\n      <td>2000</td>\n      <td>1</td>\n      <td>...</td>\n      <td>0</td>\n      <td>1</td>\n      <td>train</td>\n      <td>0.385467</td>\n      <td>0</td>\n      <td>22.0</td>\n      <td>1</td>\n      <td>-0.000000</td>\n      <td>0.0</td>\n      <td>0.000000</td>\n    </tr>\n    <tr>\n      <th>3493</th>\n      <td>56.093750</td>\n      <td>56.937500</td>\n      <td>54.187500</td>\n      <td>55.000000</td>\n      <td>33.973778</td>\n      <td>54976600.0</td>\n      <td>US</td>\n      <td>MSFT</td>\n      <td>2000</td>\n      <td>1</td>\n      <td>...</td>\n      <td>0</td>\n      <td>1</td>\n      <td>train</td>\n      <td>0.408671</td>\n      <td>0</td>\n      <td>23.0</td>\n      <td>1</td>\n      <td>-0.000000</td>\n      <td>0.0</td>\n      <td>0.000000</td>\n    </tr>\n    <tr>\n      <th>3494</th>\n      <td>54.312500</td>\n      <td>56.125000</td>\n      <td>53.656250</td>\n      <td>55.718750</td>\n      <td>34.417774</td>\n      <td>62013600.0</td>\n      <td>US</td>\n      <td>MSFT</td>\n      <td>2000</td>\n      <td>1</td>\n      <td>...</td>\n      <td>0</td>\n      <td>1</td>\n      <td>train</td>\n      <td>0.345589</td>\n      <td>0</td>\n      <td>20.0</td>\n      <td>1</td>\n      <td>-0.000000</td>\n      <td>0.0</td>\n      <td>0.000000</td>\n    </tr>\n    <tr>\n      <th>...</th>\n      <td>...</td>\n      <td>...</td>\n      <td>...</td>\n      <td>...</td>\n      <td>...</td>\n      <td>...</td>\n      <td>...</td>\n      <td>...</td>\n      <td>...</td>\n      <td>...</td>\n      <td>...</td>\n      <td>...</td>\n      <td>...</td>\n      <td>...</td>\n      <td>...</td>\n      <td>...</td>\n      <td>...</td>\n      <td>...</td>\n      <td>...</td>\n      <td>...</td>\n      <td>...</td>\n    </tr>\n    <tr>\n      <th>6647</th>\n      <td>106.250000</td>\n      <td>107.250000</td>\n      <td>105.949997</td>\n      <td>106.599998</td>\n      <td>106.599998</td>\n      <td>619664.0</td>\n      <td>DE</td>\n      <td>VOW3.DE</td>\n      <td>2024</td>\n      <td>7</td>\n      <td>...</td>\n      <td>0</td>\n      <td>0</td>\n      <td>test</td>\n      <td>0.497982</td>\n      <td>0</td>\n      <td>21.0</td>\n      <td>0</td>\n      <td>0.000000</td>\n      <td>0.0</td>\n      <td>0.000000</td>\n    </tr>\n    <tr>\n      <th>6648</th>\n      <td>106.900002</td>\n      <td>108.500000</td>\n      <td>104.199997</td>\n      <td>106.250000</td>\n      <td>106.250000</td>\n      <td>1220032.0</td>\n      <td>DE</td>\n      <td>VOW3.DE</td>\n      <td>2024</td>\n      <td>7</td>\n      <td>...</td>\n      <td>0</td>\n      <td>0</td>\n      <td>test</td>\n      <td>0.515131</td>\n      <td>1</td>\n      <td>7.0</td>\n      <td>1</td>\n      <td>0.799999</td>\n      <td>-0.1</td>\n      <td>0.699999</td>\n    </tr>\n    <tr>\n      <th>6649</th>\n      <td>106.750000</td>\n      <td>107.800003</td>\n      <td>106.199997</td>\n      <td>107.150002</td>\n      <td>107.150002</td>\n      <td>869082.0</td>\n      <td>DE</td>\n      <td>VOW3.DE</td>\n      <td>2024</td>\n      <td>7</td>\n      <td>...</td>\n      <td>0</td>\n      <td>0</td>\n      <td>test</td>\n      <td>0.526034</td>\n      <td>1</td>\n      <td>4.0</td>\n      <td>0</td>\n      <td>NaN</td>\n      <td>-0.1</td>\n      <td>NaN</td>\n    </tr>\n    <tr>\n      <th>6650</th>\n      <td>107.550003</td>\n      <td>108.900002</td>\n      <td>107.400002</td>\n      <td>108.550003</td>\n      <td>108.550003</td>\n      <td>772086.0</td>\n      <td>DE</td>\n      <td>VOW3.DE</td>\n      <td>2024</td>\n      <td>7</td>\n      <td>...</td>\n      <td>0</td>\n      <td>0</td>\n      <td>test</td>\n      <td>0.491323</td>\n      <td>0</td>\n      <td>30.0</td>\n      <td>1</td>\n      <td>NaN</td>\n      <td>0.0</td>\n      <td>NaN</td>\n    </tr>\n    <tr>\n      <th>6651</th>\n      <td>108.300003</td>\n      <td>108.349998</td>\n      <td>107.699997</td>\n      <td>107.949997</td>\n      <td>107.949997</td>\n      <td>98672.0</td>\n      <td>DE</td>\n      <td>VOW3.DE</td>\n      <td>2024</td>\n      <td>7</td>\n      <td>...</td>\n      <td>0</td>\n      <td>0</td>\n      <td>test</td>\n      <td>0.501461</td>\n      <td>1</td>\n      <td>9.0</td>\n      <td>0</td>\n      <td>NaN</td>\n      <td>-0.1</td>\n      <td>NaN</td>\n    </tr>\n  </tbody>\n</table>\n<p>177530 rows × 255 columns</p>\n</div>"
     },
     "execution_count": 32,
     "metadata": {},
     "output_type": "execute_result"
    }
   ],
   "source": [
    "trained.df_full"
   ]
  },
  {
   "cell_type": "code",
   "execution_count": 33,
   "metadata": {},
   "outputs": [
    {
     "data": {
      "text/plain": "         Adj Close   Ticker                      Date  pred1_rf_best  \\\n10978   220.270004     AAPL 2024-07-02 00:00:00+00:00       0.572382   \n6298    405.450012    OR.PA 2024-07-03 00:00:00+00:00       0.558990   \n6299    408.000000    OR.PA 2024-07-04 00:00:00+00:00       0.600688   \n6645    106.849998  VOW3.DE 2024-07-05 00:00:00+00:00       0.545912   \n7083     23.900000   DTE.DE 2024-07-08 00:00:00+00:00       0.526531   \n5004    190.440002     GOOG 2024-07-09 00:00:00+00:00       0.523752   \n10983   232.979996     AAPL 2024-07-10 00:00:00+00:00       0.549705   \n13138   328.820007      ETN 2024-07-11 00:00:00+00:00       0.544302   \n3757    170.087006     AVGO 2024-07-12 00:00:00+00:00       0.545880   \n6306   2135.000000   RMS.PA 2024-07-15 00:00:00+00:00       0.575218   \n\n       pred1_rf_best_rank  \n10978                 1.0  \n6298                  1.0  \n6299                  1.0  \n6645                  1.0  \n7083                  1.0  \n5004                  1.0  \n10983                 1.0  \n13138                 1.0  \n3757                  1.0  \n6306                  1.0  ",
      "text/html": "<div>\n<style scoped>\n    .dataframe tbody tr th:only-of-type {\n        vertical-align: middle;\n    }\n\n    .dataframe tbody tr th {\n        vertical-align: top;\n    }\n\n    .dataframe thead th {\n        text-align: right;\n    }\n</style>\n<table border=\"1\" class=\"dataframe\">\n  <thead>\n    <tr style=\"text-align: right;\">\n      <th></th>\n      <th>Adj Close</th>\n      <th>Ticker</th>\n      <th>Date</th>\n      <th>pred1_rf_best</th>\n      <th>pred1_rf_best_rank</th>\n    </tr>\n  </thead>\n  <tbody>\n    <tr>\n      <th>10978</th>\n      <td>220.270004</td>\n      <td>AAPL</td>\n      <td>2024-07-02 00:00:00+00:00</td>\n      <td>0.572382</td>\n      <td>1.0</td>\n    </tr>\n    <tr>\n      <th>6298</th>\n      <td>405.450012</td>\n      <td>OR.PA</td>\n      <td>2024-07-03 00:00:00+00:00</td>\n      <td>0.558990</td>\n      <td>1.0</td>\n    </tr>\n    <tr>\n      <th>6299</th>\n      <td>408.000000</td>\n      <td>OR.PA</td>\n      <td>2024-07-04 00:00:00+00:00</td>\n      <td>0.600688</td>\n      <td>1.0</td>\n    </tr>\n    <tr>\n      <th>6645</th>\n      <td>106.849998</td>\n      <td>VOW3.DE</td>\n      <td>2024-07-05 00:00:00+00:00</td>\n      <td>0.545912</td>\n      <td>1.0</td>\n    </tr>\n    <tr>\n      <th>7083</th>\n      <td>23.900000</td>\n      <td>DTE.DE</td>\n      <td>2024-07-08 00:00:00+00:00</td>\n      <td>0.526531</td>\n      <td>1.0</td>\n    </tr>\n    <tr>\n      <th>5004</th>\n      <td>190.440002</td>\n      <td>GOOG</td>\n      <td>2024-07-09 00:00:00+00:00</td>\n      <td>0.523752</td>\n      <td>1.0</td>\n    </tr>\n    <tr>\n      <th>10983</th>\n      <td>232.979996</td>\n      <td>AAPL</td>\n      <td>2024-07-10 00:00:00+00:00</td>\n      <td>0.549705</td>\n      <td>1.0</td>\n    </tr>\n    <tr>\n      <th>13138</th>\n      <td>328.820007</td>\n      <td>ETN</td>\n      <td>2024-07-11 00:00:00+00:00</td>\n      <td>0.544302</td>\n      <td>1.0</td>\n    </tr>\n    <tr>\n      <th>3757</th>\n      <td>170.087006</td>\n      <td>AVGO</td>\n      <td>2024-07-12 00:00:00+00:00</td>\n      <td>0.545880</td>\n      <td>1.0</td>\n    </tr>\n    <tr>\n      <th>6306</th>\n      <td>2135.000000</td>\n      <td>RMS.PA</td>\n      <td>2024-07-15 00:00:00+00:00</td>\n      <td>0.575218</td>\n      <td>1.0</td>\n    </tr>\n  </tbody>\n</table>\n</div>"
     },
     "execution_count": 33,
     "metadata": {},
     "output_type": "execute_result"
    }
   ],
   "source": [
    "COLUMNS = ['Adj Close','Ticker','Date',prediction_name, prediction_name+'_rank']\n",
    "trained.df_full[trained.df_full[f'{prediction_name}_rank']==1].sort_values(by=\"Date\").tail(10)[COLUMNS]"
   ]
  },
  {
   "cell_type": "code",
   "execution_count": 34,
   "metadata": {},
   "outputs": [
    {
     "name": "stdout",
     "output_type": "stream",
     "text": [
      "         Adj Close   Ticker                      Date  pred1_rf_best  \\\n",
      "10978   220.270004     AAPL 2024-07-02 00:00:00+00:00       0.572382   \n",
      "6298    405.450012    OR.PA 2024-07-03 00:00:00+00:00       0.558990   \n",
      "6299    408.000000    OR.PA 2024-07-04 00:00:00+00:00       0.600688   \n",
      "6645    106.849998  VOW3.DE 2024-07-05 00:00:00+00:00       0.545912   \n",
      "7083     23.900000   DTE.DE 2024-07-08 00:00:00+00:00       0.526531   \n",
      "5004    190.440002     GOOG 2024-07-09 00:00:00+00:00       0.523752   \n",
      "10983   232.979996     AAPL 2024-07-10 00:00:00+00:00       0.549705   \n",
      "13138   328.820007      ETN 2024-07-11 00:00:00+00:00       0.544302   \n",
      "3757    170.087006     AVGO 2024-07-12 00:00:00+00:00       0.545880   \n",
      "6306   2135.000000   RMS.PA 2024-07-15 00:00:00+00:00       0.575218   \n",
      "\n",
      "       pred1_rf_best_rank  \n",
      "10978                 1.0  \n",
      "6298                  1.0  \n",
      "6299                  1.0  \n",
      "6645                  1.0  \n",
      "7083                  1.0  \n",
      "5004                  1.0  \n",
      "10983                 1.0  \n",
      "13138                 1.0  \n",
      "3757                  1.0  \n",
      "6306                  1.0  \n"
     ]
    }
   ],
   "source": [
    "print(trained.df_full[trained.df_full[f'{prediction_name}_rank']==1].sort_values(by=\"Date\").tail(10)[COLUMNS])"
   ]
  }
 ],
 "metadata": {
  "kernelspec": {
   "display_name": "Python 3 (ipykernel)",
   "language": "python",
   "name": "python3"
  },
  "language_info": {
   "codemirror_mode": {
    "name": "ipython",
    "version": 3
   },
   "file_extension": ".py",
   "mimetype": "text/x-python",
   "name": "python",
   "nbconvert_exporter": "python",
   "pygments_lexer": "ipython3",
   "version": "3.12.0"
  }
 },
 "nbformat": 4,
 "nbformat_minor": 2
}
